{
 "cells": [
  {
   "cell_type": "code",
   "execution_count": 1,
   "id": "8d970107",
   "metadata": {},
   "outputs": [],
   "source": [
    "from tkinter import *\n",
    "from functools import partial\n",
    "from tkinter import messagebox\n",
    "def validatelogin(username,password):\n",
    "    print(\"entered username::\",username.get())\n",
    "    print(\"enter password::\",password.get())\n",
    "    messagebox.showinfo(\"login\",\"good\")\n",
    "\n",
    "    return\n",
    "#windows\n",
    "tkWindow=Tk()\n",
    "tkWindow.geometry('400x150')\n",
    "tkWindow.title('loginform')\n",
    "#username label and text entry box\n",
    "usernameLabel=Label(tkWindow,text=\"username\").grid(row=20,column=10)\n",
    "username=StringVar()\n",
    "usernameEntry=Entry(tkWindow,textvariable=username).grid(row=20,column=11)\n",
    "#password label and text entry box\n",
    "passwordLabel=Label(tkWindow,text=\"password\").grid(row=21,column=10)\n",
    "password=StringVar()\n",
    "passwordEntry=Entry(tkWindow,textvariable=password,show=('0')).grid(row=21,column=11)\n",
    "validatelogin=partial(validatelogin,username,password)\n",
    "#login button\n",
    "loginButton=Button(tkWindow,text=\"login\",command=validatelogin).grid(row=22,column=10)\n",
    "tkWindow.mainloop()"
   ]
  },
  {
   "cell_type": "code",
   "execution_count": null,
   "id": "e25ed6f1",
   "metadata": {},
   "outputs": [],
   "source": []
  },
  {
   "cell_type": "code",
   "execution_count": null,
   "id": "76ff1c35",
   "metadata": {},
   "outputs": [],
   "source": []
  }
 ],
 "metadata": {
  "kernelspec": {
   "display_name": "Python 3",
   "language": "python",
   "name": "python3"
  },
  "language_info": {
   "codemirror_mode": {
    "name": "ipython",
    "version": 3
   },
   "file_extension": ".py",
   "mimetype": "text/x-python",
   "name": "python",
   "nbconvert_exporter": "python",
   "pygments_lexer": "ipython3",
   "version": "3.8.8"
  }
 },
 "nbformat": 4,
 "nbformat_minor": 5
}
